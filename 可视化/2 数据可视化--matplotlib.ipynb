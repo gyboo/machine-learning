{
 "cells": [
  {
   "cell_type": "markdown",
   "metadata": {},
   "source": [
    "# 数据可视化-matplotlib"
   ]
  },
  {
   "cell_type": "markdown",
   "metadata": {},
   "source": [
    "## 绘制折线图"
   ]
  },
  {
   "cell_type": "markdown",
   "metadata": {},
   "source": []
  },
  {
   "cell_type": "markdown",
   "metadata": {},
   "source": [
    "<font color=black size=3 face=\"微软雅黑\">\n",
    "    \n",
    "【例2-1】绘制中国银行2015-2019年营业收入折线图\n",
    "\n",
    "要求： 1.设置x轴、y轴有标题；\n",
    "     2.设置图表标题为“中国银行2015-2019年营业收入”；\n",
    "     3.折线图要显示刻度\n",
    "    \n",
    "数据源：revenue.xlsx"
   ]
  },
  {
   "cell_type": "code",
   "execution_count": null,
   "metadata": {},
   "outputs": [],
   "source": []
  },
  {
   "cell_type": "markdown",
   "metadata": {},
   "source": [
    "<font color=black size=3 face=\"微软雅黑\">\n",
    "    \n",
    "【例2-2】绘制14天基础体温的折线图\n",
    "    \n",
    "要求： 1.设置x轴、y轴有标题；\n",
    "     2.设置图表标题为“14天基础体温图”；\n",
    "     3.折线图要显示刻度\n",
    "    \n",
    "数据源：体温.xlsx"
   ]
  },
  {
   "cell_type": "code",
   "execution_count": null,
   "metadata": {},
   "outputs": [],
   "source": []
  },
  {
   "cell_type": "markdown",
   "metadata": {},
   "source": [
    "<font color=black size=3 face=\"微软雅黑\">\n",
    "    \n",
    "【例2-3】绘制学生的语、数、外各科成绩分析图\n",
    "    \n",
    "要求： \n",
    "    \n",
    "  1.设置x轴、y轴有标题；\n",
    "    \n",
    "  2.每科使用不同颜色折线表示：\n",
    "    \n",
    "  3.设置图表标题为“学生三科成绩分析图”；\n",
    "    \n",
    "  4.折线图要显示刻度\n",
    "    \n",
    "  5.设置图例\n",
    "    \n",
    "数据源：成绩.xlsx"
   ]
  },
  {
   "cell_type": "code",
   "execution_count": null,
   "metadata": {},
   "outputs": [],
   "source": []
  },
  {
   "cell_type": "markdown",
   "metadata": {},
   "source": [
    "## 绘制柱形图"
   ]
  },
  {
   "cell_type": "markdown",
   "metadata": {},
   "source": [
    "<font color=black size=3 face=\"微软雅黑\">\n",
    "    \n",
    "【例2-4】绘制中国银行和建设银行2015-2019年营业收入柱状图\n",
    "    \n",
    "要求： \n",
    "  \n",
    "   1.设置x轴、y轴有标题；\n",
    "    \n",
    "   2.设置图表标题为“中国银行和建设银行2015-2019年营业收入柱形图”；\n",
    "    \n",
    "   3.显示刻度\n",
    "    \n",
    "   4.设置图例显示\n",
    "    \n",
    "数据源：revenue.xlsx数据源：\n",
    "    "
   ]
  },
  {
   "cell_type": "code",
   "execution_count": null,
   "metadata": {},
   "outputs": [],
   "source": []
  },
  {
   "cell_type": "markdown",
   "metadata": {},
   "source": [
    "<font color=black size=3 face=\"微软雅黑\">\n",
    "\n",
    "【例2-5】绘制各平台2013~2019年线上图书销售额分析图\n",
    "    \n",
    "要求：\n",
    "\n",
    "(1)设置x轴、y轴有标题；\n",
    "\n",
    "(2)设置图表标题为“各平台2013~2019年线上图书销售额分析图”；\n",
    "\n",
    "(3)显示刻度\n",
    "\n",
    "(4)设置图例显示\n",
    "   \n",
    "数据源：books.xlsx"
   ]
  },
  {
   "cell_type": "code",
   "execution_count": null,
   "metadata": {},
   "outputs": [],
   "source": []
  },
  {
   "cell_type": "markdown",
   "metadata": {},
   "source": [
    "## 绘制饼图"
   ]
  },
  {
   "cell_type": "markdown",
   "metadata": {},
   "source": [
    "<font color=black size=3 face=\"微软雅黑\">\n",
    "    \n",
    "【例2-6】绘制中国银行2015-2019年营业收入饼图\n",
    "\n",
    "要求：\n",
    "\n",
    "(1)2019年营业收入扇面离圆心距离0.1；\n",
    "\n",
    "(2)设置每块扇面的说明文字对应年份，扇面显示格式为小数点后2位的百分比；\n",
    "\n",
    "(3)饼图的半径1.5\n",
    "\n",
    "(4)设置图表标题\n",
    "    \n",
    "数据源：revenue.xlsx"
   ]
  },
  {
   "cell_type": "code",
   "execution_count": null,
   "metadata": {},
   "outputs": [],
   "source": []
  },
  {
   "cell_type": "markdown",
   "metadata": {},
   "source": [
    "<font color=black size=3 face=\"微软雅黑\">\n",
    "    \n",
    "【例2-7】绘制各省销量的占比情况饼形图\n",
    "    \n",
    "要求：\n",
    "\n",
    "(1)设置每块扇面的说明文字对应省份，扇面显示格式为小数点后2位的百分比；\n",
    "\n",
    "(2)饼图的半径0.5\n",
    "    \n",
    "(3)将销量最多省份分裂显示，扇面离圆心距离0.1\n",
    "\n",
    "(4)设置图表标题"
   ]
  },
  {
   "cell_type": "code",
   "execution_count": null,
   "metadata": {},
   "outputs": [],
   "source": []
  },
  {
   "cell_type": "markdown",
   "metadata": {},
   "source": [
    "## 绘制直方图"
   ]
  },
  {
   "cell_type": "markdown",
   "metadata": {},
   "source": [
    "<font color=black size=3 face=\"微软雅黑\">\n",
    "    \n",
    "【例2-8】使用直方图分析学生语、数、外三科成绩的分布情况\n",
    "    \n",
    "要求：\n",
    "    \n",
    "(1) 每科使用不同颜色表示；\n",
    "\n",
    "(2) 设置x轴、y轴有标题；\n",
    "    \n",
    "(3) 设置图表标题\n",
    "    \n",
    "    \n",
    "数据源:成绩.xlsx"
   ]
  },
  {
   "cell_type": "code",
   "execution_count": null,
   "metadata": {},
   "outputs": [],
   "source": []
  },
  {
   "cell_type": "markdown",
   "metadata": {},
   "source": [
    "<font color=black size=3 face=\"微软雅黑\">\n",
    "    \n",
    "【例2-9】使用直方图分析泰坦尼克号年龄分布情况\n",
    "    \n",
    "要求：\n",
    "\n",
    "(1) 设置x轴、y轴有标题；\n",
    "\n",
    "(2) 设置图表标题\n",
    "    \n",
    "数据源:titanic.csv"
   ]
  },
  {
   "cell_type": "code",
   "execution_count": null,
   "metadata": {},
   "outputs": [],
   "source": []
  },
  {
   "cell_type": "markdown",
   "metadata": {},
   "source": [
    "## 绘制热力图"
   ]
  },
  {
   "cell_type": "markdown",
   "metadata": {},
   "source": [
    "<font color=black size=3 face=\"微软雅黑\">\n",
    "    \n",
    "【例2-10】使用热力图对比分析学生各科成绩\n",
    "    \n",
    "要求：\n",
    "\n",
    "(1) 设置x轴、y轴有标题；\n",
    "\n",
    "(2) 设置图表标题\n",
    "    \n",
    "数据源:各科成绩.xls\n"
   ]
  },
  {
   "cell_type": "code",
   "execution_count": null,
   "metadata": {},
   "outputs": [],
   "source": []
  },
  {
   "cell_type": "markdown",
   "metadata": {},
   "source": [
    "<font color=black size=3 face=\"微软雅黑\">\n",
    "    \n",
    "【例2-11】使用热力图对比分析每年航班乘客情况\n",
    "    \n",
    "要求：\n",
    "\n",
    "(1) 设置x轴、y轴有标题；\n",
    "\n",
    "(2) 设置图表标题\n",
    "\n",
    "数据源:flight.xls"
   ]
  },
  {
   "cell_type": "code",
   "execution_count": null,
   "metadata": {},
   "outputs": [],
   "source": []
  },
  {
   "cell_type": "markdown",
   "metadata": {},
   "source": [
    "## 绘制箱图"
   ]
  },
  {
   "cell_type": "markdown",
   "metadata": {},
   "source": [
    "<font color=black size=3 face=\"微软雅黑\">\n",
    "    \n",
    "【例2-12】利用箱图查找餐饮数据中存在的异常值\n",
    "\n",
    "要求：\n",
    "\n",
    "(1) 设置x轴、y轴有标题；\n",
    "\n",
    "(2) 设置图表标题\n",
    "    \n",
    "数据源:catering_sale.xls"
   ]
  },
  {
   "cell_type": "code",
   "execution_count": null,
   "metadata": {},
   "outputs": [],
   "source": []
  },
  {
   "cell_type": "markdown",
   "metadata": {},
   "source": [
    "<font color=black size=3 face=\"微软雅黑\">\n",
    "    \n",
    "【例2-13】利用箱图查找客人总消费的数据中存在的异常值\n",
    "    \n",
    "要求：\n",
    "\n",
    "(1) 设置x轴、y轴有标题；\n",
    "\n",
    "(2) 设置图表标题\n",
    "\n",
    "数据源:tips.xls"
   ]
  },
  {
   "cell_type": "code",
   "execution_count": null,
   "metadata": {},
   "outputs": [],
   "source": []
  },
  {
   "cell_type": "markdown",
   "metadata": {},
   "source": [
    "## 绘制散点图"
   ]
  },
  {
   "cell_type": "markdown",
   "metadata": {},
   "source": [
    "<font color=black size=3 face=\"微软雅黑\">\n",
    "    \n",
    "【例2-14】利用散点图分析不同种类(species)鸢尾花萼片(sepal_size)和花瓣(petal)大小相关性\n",
    "    \n",
    "要求：\n",
    "    \n",
    "(1) x轴表示sepal_size,y轴表示petal_size\n",
    "    \n",
    "(2) 不同种类鸢尾花使用不同颜色表示\n",
    "    \n",
    "数据源:iris-v.csv"
   ]
  },
  {
   "cell_type": "code",
   "execution_count": null,
   "metadata": {},
   "outputs": [],
   "source": []
  },
  {
   "cell_type": "markdown",
   "metadata": {},
   "source": [
    "## 绘制多个子图表"
   ]
  },
  {
   "cell_type": "markdown",
   "metadata": {},
   "source": [
    "<font color=black size=3 face=\"微软雅黑\">\n",
    "\n",
    "利用Matplotlib提供subplot函数、subplots函数、add_subplot函数三种方法"
   ]
  }
 ],
 "metadata": {
  "kernelspec": {
   "display_name": "Python 3",
   "language": "python",
   "name": "python3"
  },
  "language_info": {
   "codemirror_mode": {
    "name": "ipython",
    "version": 3
   },
   "file_extension": ".py",
   "mimetype": "text/x-python",
   "name": "python",
   "nbconvert_exporter": "python",
   "pygments_lexer": "ipython3",
   "version": "3.8.5"
  },
  "toc": {
   "base_numbering": 1,
   "nav_menu": {},
   "number_sections": true,
   "sideBar": true,
   "skip_h1_title": false,
   "title_cell": "Table of Contents",
   "title_sidebar": "Contents",
   "toc_cell": false,
   "toc_position": {},
   "toc_section_display": true,
   "toc_window_display": false
  }
 },
 "nbformat": 4,
 "nbformat_minor": 5
}
